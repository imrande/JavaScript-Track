{
 "cells": [
  {
   "cell_type": "markdown",
   "metadata": {
    "collapsed": false
   },
   "source": [
    "#### Notes\n",
    "\n",
    "Every non-primitive can have two methods available: `toString` and `valueOf`. If `number` hint is sent, `valueOf()` method is invoked first. And if we get a primitive type from the result then we are done. But if the result is again a non-primitive, `toString()` gets invoked. Similarly, in the case of `string` hint type, the order of these operations is reversed. If the invocation of these two operations doesn't return a primitive, generally it's a `TypeError`."
   ]
  },
  {
   "cell_type": "code",
   "execution_count": 1,
   "metadata": {
    "collapsed": false
   },
   "outputs": [
    {
     "name": "stdout",
     "output_type": "stream",
     "text": [
      "5\n"
     ]
    }
   ],
   "source": [
    "console.log([] + 5); // 5\n",
    "\n",
    "/*\n",
    "Steps =>\n",
    "[].valueOf() => []\n",
    "[].toString() => ''\n",
    "'' + 5 == 5\n",
    "*/"
   ]
  },
  {
   "cell_type": "markdown",
   "metadata": {
    "collapsed": false
   },
   "source": [
    "ToPrimitive abstract operation is performed with `number`\n",
    "\n",
    "hint: `number` <br>\n",
    "valueOf( ) <br>\n",
    "toString( ) <br>\n",
    "\n",
    "hint: `string` <br>\n",
    "toString( ) <br>\n",
    "valueOf( ) <br>\n",
    "\n",
    "Whenever we receive a non-primitive value for an operation where a primitive type was expected, `ToPrimitive` abstract operation is invoked.\n",
    "\n",
    "- [Abstract Operations—the key to understand Coercion in JavaScript](https://dev.to/aman_singh/abstract-operations-the-key-to-understand-coercion-in-javascript-453i)"
   ]
  },
  {
   "cell_type": "code",
   "execution_count": 2,
   "metadata": {
    "collapsed": false
   },
   "outputs": [
    {
     "name": "stdout",
     "output_type": "stream",
     "text": [
      "[object Object]\n"
     ]
    },
    {
     "name": "stdout",
     "output_type": "stream",
     "text": [
      "[object Object]\n"
     ]
    },
    {
     "name": "stdout",
     "output_type": "stream",
     "text": [
      "=======\n"
     ]
    },
    {
     "name": "stdout",
     "output_type": "stream",
     "text": [
      "\n"
     ]
    },
    {
     "name": "stdout",
     "output_type": "stream",
     "text": [
      "[object Object][object Object]\n"
     ]
    },
    {
     "name": "stdout",
     "output_type": "stream",
     "text": [
      "[object Object]\n"
     ]
    },
    {
     "name": "stdout",
     "output_type": "stream",
     "text": [
      "null\n"
     ]
    },
    {
     "name": "stdout",
     "output_type": "stream",
     "text": [
      "null[object Object]\n"
     ]
    },
    {
     "name": "stdout",
     "output_type": "stream",
     "text": [
      "0\n"
     ]
    },
    {
     "name": "stdout",
     "output_type": "stream",
     "text": [
      "\n"
     ]
    },
    {
     "name": "stdout",
     "output_type": "stream",
     "text": [
      "-1\n"
     ]
    },
    {
     "name": "stdout",
     "output_type": "stream",
     "text": [
      "true\n"
     ]
    }
   ],
   "source": [
    "console.log({} + []); // 0\n",
    "console.log([] + {}); // \"[object Object]\"\n",
    "console.log('======='); // =======\n",
    "console.log([] + []); // \"\"\n",
    "console.log({} + {}); // [object object] [object object]\n",
    "console.log([] + {}); // \"[object object]\"\n",
    "console.log(null + []); // \"null\"\n",
    "console.log(null + {}); // \"null[object Object]\"\n",
    "\n",
    "console.log(0 + \"\"); // 0 -> [empty string is 0]\n",
    "console.log(\"\" + \"\"); // blank ?? WTF\n",
    "\n",
    "console.log('' - true); // -1 -> [0 - 1]\n",
    "console.log(1 < 2 < 3); // true -> (1 < 2) < 3 === true < 3 == true"
   ]
  }
 ],
 "metadata": {
  "kernelspec": {
   "display_name": "Javascript (Node.js)",
   "language": "javascript",
   "name": "javascript",
   "resource_dir": "/ext/jupyter/kernels/javascript"
  },
  "language_info": {
   "file_extension": ".js",
   "mimetype": "application/javascript",
   "name": "javascript",
   "version": "12.22.12"
  }
 },
 "nbformat": 4,
 "nbformat_minor": 4
}