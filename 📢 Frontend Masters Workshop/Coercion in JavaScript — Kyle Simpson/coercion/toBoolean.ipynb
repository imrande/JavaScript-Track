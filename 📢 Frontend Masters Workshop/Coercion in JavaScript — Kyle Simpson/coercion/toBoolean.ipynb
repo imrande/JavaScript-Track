{
 "cells": [
  {
   "cell_type": "markdown",
   "metadata": {
    "collapsed": false
   },
   "source": [
    "#### Notes\n",
    "\n",
    "abstract operations are not part of the language but are used to aid the specification of the semantics of JavaScript language. You can think of these operations as conceptual operations. Abstract operation `ToBoolean` converts its argument to a value of type Boolean `undefined` becomes `false` `null` becomes `false` Boolean becomes equal to input arg Number becomes ``[0, -0 ,+0 => false]``, other `true` String becomes `true` except empty `['']` object is `true` WTF???"
   ]
  },
  {
   "cell_type": "code",
   "execution_count": 1,
   "metadata": {
    "collapsed": false
   },
   "outputs": [
    {
     "name": "stdout",
     "output_type": "stream",
     "text": [
      "false\n"
     ]
    },
    {
     "name": "stdout",
     "output_type": "stream",
     "text": [
      "false\n"
     ]
    },
    {
     "name": "stdout",
     "output_type": "stream",
     "text": [
      "false\n"
     ]
    },
    {
     "name": "stdout",
     "output_type": "stream",
     "text": [
      "false\n"
     ]
    },
    {
     "name": "stdout",
     "output_type": "stream",
     "text": [
      "false\n"
     ]
    },
    {
     "name": "stdout",
     "output_type": "stream",
     "text": [
      "false\n"
     ]
    },
    {
     "name": "stdout",
     "output_type": "stream",
     "text": [
      "false\n"
     ]
    },
    {
     "name": "stdout",
     "output_type": "stream",
     "text": [
      "false\n"
     ]
    },
    {
     "name": "stdout",
     "output_type": "stream",
     "text": [
      "true\n"
     ]
    },
    {
     "name": "stdout",
     "output_type": "stream",
     "text": [
      "true\n"
     ]
    },
    {
     "name": "stdout",
     "output_type": "stream",
     "text": [
      "true\n"
     ]
    },
    {
     "name": "stdout",
     "output_type": "stream",
     "text": [
      "true\n"
     ]
    }
   ],
   "source": [
    "let x = (value) => {\n",
    "    console.log(Boolean(value));\n",
    "}\n",
    "\n",
    "\n",
    "x(0) // false\n",
    "x(+0) // false\n",
    "x(-0) // false\n",
    "x(null) // false\n",
    "x(undefined) // false\n",
    "x(false) // false\n",
    "x(NaN) // false\n",
    "x('') // false\n",
    "x([]) // true\n",
    "x({}) // true\n",
    "x('f00') // true\n",
    "x([1]) // true"
   ]
  }
 ],
 "metadata": {
  "kernelspec": {
   "display_name": "Javascript (Node.js)",
   "language": "javascript",
   "name": "javascript",
   "resource_dir": "/ext/jupyter/kernels/javascript"
  },
  "language_info": {
   "file_extension": ".js",
   "mimetype": "application/javascript",
   "name": "javascript",
   "version": "12.22.12"
  }
 },
 "nbformat": 4,
 "nbformat_minor": 4
}