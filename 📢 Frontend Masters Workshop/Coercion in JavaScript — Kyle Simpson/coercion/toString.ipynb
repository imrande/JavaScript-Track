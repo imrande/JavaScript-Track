{
 "cells": [
  {
   "cell_type": "markdown",
   "metadata": {
    "collapsed": false
   },
   "source": [
    "#### Notes \n",
    "\n",
    "Coercion means convert one value type to another value type\n",
    "\n",
    "- https://getify.github.io/coercions-grid/\n",
    "- https://davidwalsh.name/fixing-coercion\n",
    "- http://jscoercion.qfox.nl/\n",
    "- http://webreflection.blogspot.com/2010/10/javascript-coercion-demystified.html\n",
    "- https://jsperf.com/triple-equals-vs-double-equals/5\n",
    "\n",
    "`toString()` is a string representation of specified string object\n",
    "\n",
    "- https://mzl.la/37A7DoI"
   ]
  },
  {
   "cell_type": "code",
   "execution_count": 1,
   "metadata": {
    "collapsed": false
   },
   "outputs": [
    {
     "name": "stdout",
     "output_type": "stream",
     "text": [
      "Hello, World\n"
     ]
    },
    {
     "name": "stdout",
     "output_type": "stream",
     "text": [
      "[object Undefined]\n"
     ]
    }
   ],
   "source": [
    "let x = new String('Hello, World'); // string object\n",
    "console.log(x.toString()); // Hello, World\n",
    "\n",
    "// toString Operation\n",
    "console.log(toString(null)); // [object Undefined]"
   ]
  },
  {
   "cell_type": "code",
   "execution_count": 2,
   "metadata": {
    "collapsed": false
   },
   "outputs": [
    {
     "name": "stdout",
     "output_type": "stream",
     "text": [
      "52\n"
     ]
    },
    {
     "name": "stdout",
     "output_type": "stream",
     "text": [
      "[object Undefined]\n"
     ]
    }
   ],
   "source": [
    "console.log(String(52)); // '52'\n",
    "console.log(toString(null)); // '[object Undefined]'"
   ]
  },
  {
   "cell_type": "code",
   "execution_count": 3,
   "metadata": {
    "collapsed": false
   },
   "outputs": [
    {
     "name": "stdout",
     "output_type": "stream",
     "text": [
      "[object Object]\n"
     ]
    },
    {
     "name": "stdout",
     "output_type": "stream",
     "text": [
      "[object Object]\n"
     ]
    }
   ],
   "source": [
    "var a = {\n",
    "    'lan': 'JavaScript'\n",
    "}\n",
    "console.log(a.toString()) // '[object Object]'\n",
    "console.log(String(a)) // '[object Object]'"
   ]
  },
  {
   "cell_type": "code",
   "execution_count": 4,
   "metadata": {
    "collapsed": false
   },
   "outputs": [
    {
     "name": "stdout",
     "output_type": "stream",
     "text": [
      "undefined\n"
     ]
    },
    {
     "name": "stdout",
     "output_type": "stream",
     "text": [
      "1\n"
     ]
    },
    {
     "name": "stdout",
     "output_type": "stream",
     "text": [
      "NaN\n"
     ]
    },
    {
     "name": "stdout",
     "output_type": "stream",
     "text": [
      "undefined\n"
     ]
    },
    {
     "name": "stdout",
     "output_type": "stream",
     "text": [
      "null\n"
     ]
    },
    {
     "name": "stdout",
     "output_type": "stream",
     "text": [
      "2\n"
     ]
    },
    {
     "name": "stdout",
     "output_type": "stream",
     "text": [
      "1\n"
     ]
    }
   ],
   "source": [
    "// https://tc39.es/ecma262/#sec-tostring\n",
    "\n",
    "console.log(String(undefined)); // 'undefined'\n",
    "console.log(String(1 + null)); // '1'\n",
    "console.log(String(1 + undefined)); // 'NaN' WTF???\n",
    "console.log(String(undefined)); // 'undefined'\n",
    "console.log(String(null)); // 'null'\n",
    "console.log(String(1 + true)); // '2'\n",
    "console.log(String(1 + false)); // '1'"
   ]
  },
  {
   "cell_type": "code",
   "execution_count": 5,
   "metadata": {
    "collapsed": false
   },
   "outputs": [
    {
     "name": "stdout",
     "output_type": "stream",
     "text": [
      "[object Object]\n"
     ]
    }
   ],
   "source": [
    "console.log(\n",
    "    String(\n",
    "        a = {\n",
    "            'x': 10\n",
    "        }\n",
    "    )\n",
    "); // [object Object]"
   ]
  },
  {
   "cell_type": "code",
   "execution_count": 6,
   "metadata": {
    "collapsed": false
   },
   "outputs": [
    {
     "name": "stdout",
     "output_type": "stream",
     "text": [
      "Str\n"
     ]
    },
    {
     "name": "stdout",
     "output_type": "stream",
     "text": [
      "0\n"
     ]
    },
    {
     "name": "stdout",
     "output_type": "stream",
     "text": [
      "\n"
     ]
    },
    {
     "name": "stdout",
     "output_type": "stream",
     "text": [
      "false\n"
     ]
    }
   ],
   "source": [
    "console.log(String('Str')); // 'Str'\n",
    "console.log(String(Number())); // '0' ???\n",
    "console.log(String(String())); // ''\n",
    "console.log(String(Boolean())); // 'false'"
   ]
  },
  {
   "cell_type": "code",
   "execution_count": 7,
   "metadata": {
    "collapsed": false
   },
   "outputs": [
    {
     "name": "stdout",
     "output_type": "stream",
     "text": [
      "function a(){\n",
      "        console.log('Hi')\n",
      "    }\n"
     ]
    }
   ],
   "source": [
    "console.log(String(\n",
    "    function a(){\n",
    "        console.log('Hi')\n",
    "    }\n",
    ")); // return full fn surrounded ''"
   ]
  },
  {
   "cell_type": "code",
   "execution_count": 8,
   "metadata": {
    "collapsed": false
   },
   "outputs": [
    {
     "name": "stdout",
     "output_type": "stream",
     "text": [
      "1,2,3\n"
     ]
    },
    {
     "name": "stdout",
     "output_type": "stream",
     "text": [
      "\n"
     ]
    },
    {
     "name": "stdout",
     "output_type": "stream",
     "text": [
      ",\n"
     ]
    },
    {
     "name": "stdout",
     "output_type": "stream",
     "text": [
      ",,,,\n"
     ]
    },
    {
     "name": "stdout",
     "output_type": "stream",
     "text": [
      "[object Object]\n"
     ]
    }
   ],
   "source": [
    "let xx = (value) => {\n",
    "    console.log(String(value));\n",
    "}\n",
    "\n",
    "xx([1, 2, 3]); // '1, 2, 3'\n",
    "xx([]); // ''\n",
    "xx([null, undefined]); // ','\n",
    "xx([,,,,,]); // ',,,,'\n",
    "xx({}); // '[object Object]'"
   ]
  },
  {
   "cell_type": "code",
   "execution_count": 9,
   "metadata": {
    "collapsed": false
   },
   "outputs": [
    {
     "name": "stdout",
     "output_type": "stream",
     "text": [
      "1,2,3\n"
     ]
    },
    {
     "name": "stdout",
     "output_type": "stream",
     "text": [
      "\n"
     ]
    },
    {
     "name": "stdout",
     "output_type": "stream",
     "text": [
      ",\n"
     ]
    },
    {
     "name": "stdout",
     "output_type": "stream",
     "text": [
      ",,,,\n"
     ]
    },
    {
     "name": "stdout",
     "output_type": "stream",
     "text": [
      "[object Object]\n"
     ]
    }
   ],
   "source": [
    "// toString()\n",
    "xx = (value) => {\n",
    "    console.log(value.toString());\n",
    "}\n",
    "\n",
    "xx([1, 2, 3]); // '1, 2, 3'\n",
    "xx([]); // ''\n",
    "xx([null, undefined]); // ',' // bad design\n",
    "xx([,,,,,]); // ',,,,' // Bad design\n",
    "xx({}); // '[object Object]'"
   ]
  }
 ],
 "metadata": {
  "kernelspec": {
   "display_name": "Javascript (Node.js)",
   "language": "javascript",
   "name": "javascript",
   "resource_dir": "/ext/jupyter/kernels/javascript"
  },
  "language_info": {
   "file_extension": ".js",
   "mimetype": "application/javascript",
   "name": "javascript",
   "version": "12.22.12"
  }
 },
 "nbformat": 4,
 "nbformat_minor": 4
}