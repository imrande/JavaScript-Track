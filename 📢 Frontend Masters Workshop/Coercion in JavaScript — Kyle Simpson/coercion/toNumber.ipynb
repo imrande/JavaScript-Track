{
 "cells": [
  {
   "cell_type": "markdown",
   "metadata": {
    "collapsed": false
   },
   "source": [
    "#### Notes\n",
    "\n",
    "To Number Abstract Operation handles value conversion when a non-number value is being coerced into a numeric one `null` is coerced to `+0`.\n",
    "- true is coerced to 1.\n",
    "- false is coerced to 0.\n",
    "- undefined is coerced to NaN.\n",
    "- Boolean\n",
    "    - If argument is true, return 1. \n",
    "    - If argument is false, return +0.\n",
    "- Symbol Throw a TypeError exception.\n",
    "- BigInt Throw a TypeError exception.\n",
    "\n",
    "For object and array, values are first converted to their primitive value equivalent (via ToPrimitive operation) and the resulting value is then coerced into number according to the ToNumber abstract operation."
   ]
  },
  {
   "cell_type": "code",
   "execution_count": 1,
   "metadata": {
    "collapsed": false
   },
   "outputs": [
    {
     "name": "stdout",
     "output_type": "stream",
     "text": [
      "1\n"
     ]
    },
    {
     "name": "stdout",
     "output_type": "stream",
     "text": [
      "NaN\n"
     ]
    },
    {
     "name": "stdout",
     "output_type": "stream",
     "text": [
      "NaN\n"
     ]
    },
    {
     "name": "stdout",
     "output_type": "stream",
     "text": [
      "0\n"
     ]
    },
    {
     "name": "stdout",
     "output_type": "stream",
     "text": [
      "2\n"
     ]
    },
    {
     "name": "stdout",
     "output_type": "stream",
     "text": [
      "1\n"
     ]
    },
    {
     "name": "stdout",
     "output_type": "stream",
     "text": [
      "0\n"
     ]
    },
    {
     "name": "stdout",
     "output_type": "stream",
     "text": [
      "NaN\n"
     ]
    }
   ],
   "source": [
    "console.log(1 + null) // 1, null === 0\n",
    "console.log(1 + undefined) // NaN, undefined NaN\n",
    "console.log(Number(undefined)) // NaN\n",
    "console.log(Number(null)) // 0\n",
    "console.log(1 + true) // 2\n",
    "console.log(1 + false) // 1\n",
    "console.log(Number(null)) // 0\n",
    "console.log(\n",
    "    Number(\n",
    "        a = {\n",
    "            'x': 10\n",
    "        }\n",
    "    )\n",
    "); // NaN"
   ]
  },
  {
   "cell_type": "code",
   "execution_count": 2,
   "metadata": {
    "collapsed": false
   },
   "outputs": [
    {
     "name": "stdout",
     "output_type": "stream",
     "text": [
      "NaN\n"
     ]
    }
   ],
   "source": [
    "console.log(Number('Str')) // NaN"
   ]
  },
  {
   "cell_type": "code",
   "execution_count": 2,
   "metadata": {
    "collapsed": false
   },
   "outputs": [
    {
     "name": "stdout",
     "output_type": "stream",
     "text": [
      "0\n"
     ]
    }
   ],
   "source": [
    "console.log(Number(Number())) // 0 ???"
   ]
  },
  {
   "cell_type": "code",
   "execution_count": 4,
   "metadata": {
    "collapsed": false
   },
   "outputs": [
    {
     "name": "stdout",
     "output_type": "stream",
     "text": [
      "0\n"
     ]
    }
   ],
   "source": [
    "console.log(Number(Boolean())) // 0 ???"
   ]
  },
  {
   "cell_type": "code",
   "execution_count": 5,
   "metadata": {
    "collapsed": false
   },
   "outputs": [
    {
     "name": "stdout",
     "output_type": "stream",
     "text": [
      "0\n"
     ]
    }
   ],
   "source": [
    "console.log(Number(String())) // 0 ???"
   ]
  },
  {
   "cell_type": "code",
   "execution_count": 3,
   "metadata": {
    "collapsed": false
   },
   "outputs": [
    {
     "name": "stdout",
     "output_type": "stream",
     "text": [
      "NaN\n"
     ]
    }
   ],
   "source": [
    "console.log(Number(\n",
    "    function a(){\n",
    "        console.log('Hi')\n",
    "    }\n",
    "));"
   ]
  }
 ],
 "metadata": {
  "kernelspec": {
   "display_name": "Javascript (Node.js)",
   "language": "javascript",
   "name": "javascript",
   "resource_dir": "/ext/jupyter/kernels/javascript"
  }
 },
 "nbformat": 4,
 "nbformat_minor": 4
}